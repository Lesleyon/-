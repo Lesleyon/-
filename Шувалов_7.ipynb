{
 "cells": [
  {
   "attachments": {},
   "cell_type": "markdown",
   "metadata": {},
   "source": [
    "## Тетрадь 7\n",
    "\n",
    "## Шувалов Иван"
   ]
  },
  {
   "attachments": {},
   "cell_type": "markdown",
   "metadata": {},
   "source": [
    "## Задание 1\n",
    "\n",
    "Реализовать классы нейросетей по аналогии с классом OurNeuralNetwork.\n",
    "Данные нейросети:\n",
    "− три входа (𝑥1, 𝑥2, 𝑥3);\n",
    "− три нейрона в скрытых слоях (ℎ1, ℎ2, ℎ3);\n",
    "− выход (𝑜1).\n",
    "Нейроны имеют идентичные веса и пороги:\n",
    "− 𝑤 = [0.5, 0.5, 0.5]\n",
    "− 𝑏 = 0"
   ]
  },
  {
   "cell_type": "code",
   "execution_count": 16,
   "metadata": {},
   "outputs": [
    {
     "name": "stdout",
     "output_type": "stream",
     "text": [
      "Значение на выходе 7.5\n"
     ]
    }
   ],
   "source": [
    "import numpy as np\n",
    "class Neuron:\n",
    "  def __init__(self, weights, bias):\n",
    "    self.weights = weights\n",
    "    self.bias = bias\n",
    "  def feedforward(self, inputs):\n",
    "    total = np.dot(self.weights, inputs) + self.bias\n",
    "    return total\n",
    "class OurNeuralNetwork:\n",
    "  def __init__(self):\n",
    "    weights = np.array([0.5, 0.5,0.5])\n",
    "    bias = 0\n",
    "    self.h1 = Neuron(weights, bias)\n",
    "    self.h2 = Neuron(weights, bias)\n",
    "    self.h3 = Neuron(weights, bias)\n",
    "    self.o1 = Neuron(weights, bias)\n",
    "\n",
    "  def feedforward(self, x):\n",
    "    out_h1 = self.h1.feedforward(x)\n",
    "    out_h2 = self.h2.feedforward(x)\n",
    "    out_h3=self.h3.feedforward(x)\n",
    "    out_o1 = self.o1.feedforward(np.array([out_h1, out_h2,out_h3]))\n",
    "    return out_o1\n",
    "network = OurNeuralNetwork()\n",
    "x = np.array([2, 3 ,5])\n",
    "print(\"Значение на выходе\",network.feedforward(x))"
   ]
  },
  {
   "attachments": {},
   "cell_type": "markdown",
   "metadata": {},
   "source": [
    "## Задание 2\n",
    "\n",
    "Реализуйте классы нейронных сетей с использованием других функций\n",
    "активации. \n",
    "Sigmoid, tanh,reLU\n"
   ]
  },
  {
   "cell_type": "code",
   "execution_count": 15,
   "metadata": {},
   "outputs": [
    {
     "name": "stdout",
     "output_type": "stream",
     "text": [
      "Значение на выходах (4, 4)\n"
     ]
    }
   ],
   "source": [
    "import numpy as np\n",
    "class Neuron:\n",
    "  def __init__(self, weights, bias):\n",
    "    self.weights = weights\n",
    "    self.bias = bias\n",
    "    \n",
    "  def feedforward(self, inputs):\n",
    "    total = np.dot(self.weights, inputs) + self.bias\n",
    "    return total\n",
    "  \n",
    "class OurNeuralNetwork:\n",
    "  def __init__(self):\n",
    "    weights = np.array([1, 0])\n",
    "    bias = 1\n",
    "    self.h1 = Neuron(weights, bias)\n",
    "    self.h2 = Neuron(weights, bias)\n",
    "    \n",
    "    self.o1 = Neuron(weights, bias)\n",
    "    self.o2 = Neuron(weights, bias)\n",
    "\n",
    "  def feedforward(self, x):\n",
    "    out_h1 = self.h1.feedforward(x)\n",
    "    out_h2 = self.h2.feedforward(x)\n",
    "    out_o1 = self.o1.feedforward(np.array([out_h1, out_h2]))\n",
    "    out_o2 = self.o2.feedforward(np.array([out_h1, out_h2]))\n",
    "    return out_o1,out_o2\n",
    "network = OurNeuralNetwork()\n",
    "x = np.array([2, 3])\n",
    "print(\"Значение на выходах\", network.feedforward(x))"
   ]
  },
  {
   "attachments": {},
   "cell_type": "markdown",
   "metadata": {},
   "source": [
    "Задание 3\n",
    "\n",
    "Используйте классы MLPClassified и MLPRegressor для классификации и\n",
    "регрессии произвольных данных из интернета. Проведите анализ\n",
    "атрибуты, полученных моделей.\n",
    "Для классификации можете взять набор данных Ирисов:\n",
    "https://gist.githubusercontent.com/netj/8836201/raw/6f9306ad21398ea43cba4f\n",
    "7d537619d0e07d5ae3/iris.csv\n",
    "а для регрессии датасет зависимости заработной платы от опыта работы:\n",
    "https://raw.githubusercontent.com/AnnaShestova/salary-years-simple-linear-\n",
    "regression/master/Salary_Data.csv"
   ]
  },
  {
   "cell_type": "code",
   "execution_count": 20,
   "metadata": {},
   "outputs": [
    {
     "name": "stdout",
     "output_type": "stream",
     "text": [
      "Предсказание классификации [7 8 3 6 2 9 3 6 2 1 5 3 8 9 6]\n",
      "Тестовые значения [7 8 3 0 2 9 3 6 2 1 5 3 8 9 6]\n",
      "имя функции активации выходного слоя: softmax\n",
      "Аккуратность Обучения:  0.9652777777777778\n",
      "Аккуратность Тренировок:  1.0\n",
      "убыток после завершения процесса обучения: 0.003939052380473245\n",
      "количество перехватов, связанных с персептронами: 2\n",
      "количество итераций, для которых выполнялась оценка: 117\n",
      "Предсказание регресии [8.59115474 7.71983561 2.57841371 0.55928566 1.81592115 7.28919878\n",
      " 2.59825518 5.82145239 3.52814354 1.9859595  6.02759259 4.61706675\n",
      " 6.97315086 9.86750669 6.50537751]\n",
      "Тестовые значения [7 8 3 0 2 9 3 6 2 1 5 3 8 9 6]\n",
      "имя функции активации выходного слоя: identity\n",
      "Счёт обучения регрессии: 0.8222018446077273\n",
      "Счёт тренировки регрессии: 0.9838887817320642\n",
      "убыток после завершения процесса обучения: 0.0682281004532872\n",
      "количество перехватов, связанных с персептронами: 2\n",
      "количество итераций, для которых выполнялась оценка: 200\n"
     ]
    },
    {
     "name": "stderr",
     "output_type": "stream",
     "text": [
      "c:\\Users\\shuva\\AppData\\Local\\Programs\\Python\\Python310\\lib\\site-packages\\sklearn\\neural_network\\_multilayer_perceptron.py:686: ConvergenceWarning: Stochastic Optimizer: Maximum iterations (200) reached and the optimization hasn't converged yet.\n",
      "  warnings.warn(\n"
     ]
    }
   ],
   "source": [
    "from sklearn.datasets import load_digits\n",
    "from sklearn.model_selection import train_test_split\n",
    "from sklearn.neural_network import MLPClassifier\n",
    "from sklearn.neural_network import MLPRegressor\n",
    "digits=load_digits()\n",
    "X_digits,Y_digits=digits.data,digits.target\n",
    "iris='https://gist.githubusercontent.com/netj/8836201/raw/6f9306ad21398ea43cba4f7d537619d0e07d5ae3/iris.csv'\n",
    "X_train,X_test,Y_train,Y_test = train_test_split(X_digits, Y_digits,train_size=0.64,test_size=0.16, stratify=Y_digits,random_state=246)\n",
    "mlp_classifier = MLPClassifier(random_state=246)\n",
    "mlp_regressor=MLPRegressor(random_state=246)\n",
    "mlp_classifier.fit(X_train,Y_train)\n",
    "mlp_regressor.fit(X_train,Y_train)\n",
    "Y_preds=mlp_classifier.predict(X_test)\n",
    "Y_predr=mlp_regressor.predict(X_test)\n",
    "print(\"Предсказание классификации\", Y_preds[:15])\n",
    "print(\"Тестовые значения\", Y_test[:15])\n",
    "print(\"имя функции активации выходного слоя:\",mlp_classifier.out_activation_)\n",
    "print(\"Аккуратность Обучения: \", mlp_classifier.score(X_test,Y_test))\n",
    "print(\"Аккуратность Тренировок: \",mlp_classifier.score(X_train,Y_train))\n",
    "print(\"убыток после завершения процесса обучения:\",mlp_classifier.loss_)\n",
    "print(\"количество перехватов, связанных с персептронами:\",len(mlp_classifier.intercepts_))\n",
    "print(\"количество итераций, для которых выполнялась оценка:\",mlp_classifier.n_iter_)\n",
    "print(\"Предсказание регресии\", Y_predr[:15])\n",
    "print(\"Тестовые значения\", Y_test[:15])\n",
    "print(\"имя функции активации выходного слоя:\",mlp_regressor.out_activation_)\n",
    "print(\"Счёт обучения регрессии:\",mlp_regressor.score(X_test,Y_test))\n",
    "print(\"Счёт тренировки регрессии:\",mlp_regressor.score(X_train,Y_train))\n",
    "print(\"убыток после завершения процесса обучения:\",mlp_regressor.loss_)\n",
    "print(\"количество перехватов, связанных с персептронами:\",len(mlp_regressor.intercepts_))\n",
    "print(\"количество итераций, для которых выполнялась оценка:\",mlp_regressor.n_iter_)\n"
   ]
  }
 ],
 "metadata": {
  "kernelspec": {
   "display_name": "Python 3",
   "language": "python",
   "name": "python3"
  },
  "language_info": {
   "codemirror_mode": {
    "name": "ipython",
    "version": 3
   },
   "file_extension": ".py",
   "mimetype": "text/x-python",
   "name": "python",
   "nbconvert_exporter": "python",
   "pygments_lexer": "ipython3",
   "version": "3.10.7"
  },
  "orig_nbformat": 4
 },
 "nbformat": 4,
 "nbformat_minor": 2
}
